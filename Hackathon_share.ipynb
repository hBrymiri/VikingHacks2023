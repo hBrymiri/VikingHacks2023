{
 "cells": [
  {
   "cell_type": "markdown",
   "id": "10a956d4",
   "metadata": {},
   "source": [
    "### Searching"
   ]
  },
  {
   "cell_type": "code",
   "execution_count": null,
   "id": "605efe7d",
   "metadata": {},
   "outputs": [],
   "source": [
    "# Change this to be your API key.\n",
    "MY_API_KEY=\"7SAZBY9HVTMZBTGQECC9J7SB0TAY\"\n",
    "\n",
    "url = \"https://beta3.api.climatiq.io/search\"\n",
    "query=\"grid mix\"  #input from user?\n",
    "\n",
    "query_params = {\n",
    "    # Free text query can be writen as the \"query\" parameter\n",
    "    \"query\": query,\n",
    "    # You can also filter on region, year, source and more\n",
    "    \"region\": \"US\"\n",
    "}\n",
    "\n",
    "# You must always specify your AUTH token in the \"Authorization\" header like this.\n",
    "authorization_headers = {\"Authorization\": f\"Bearer: {MY_API_KEY}\"}\n",
    "\n",
    "# This performs the request and returns the result as JSON\n",
    "response = requests.get(url, params=query_params, headers=authorization_headers).json()\n",
    "\n",
    "# And here you can do whatever you want with the results\n",
    "print(response)"
   ]
  },
  {
   "cell_type": "markdown",
   "id": "48a8fd1e",
   "metadata": {},
   "source": [
    "### Estimating Electricity"
   ]
  },
  {
   "cell_type": "code",
   "execution_count": 20,
   "id": "908d675d",
   "metadata": {},
   "outputs": [
    {
     "name": "stdout",
     "output_type": "stream",
     "text": [
      "Enter the amount of hours KW that was used this month: 943\n",
      "351.87 kg\n"
     ]
    }
   ],
   "source": [
    "import json\n",
    "import requests\n",
    "\n",
    "# Change this to be your API key\n",
    "MY_API_KEY=\"7SAZBY9HVTMZBTGQECC9J7SB0TAY\"\n",
    "\n",
    "url = \"https://beta3.api.climatiq.io/estimate\"\n",
    "\n",
    "# The activity ID for the emission factor. You can find this via the search endpoint listed above\n",
    "# or via the Data Explorer.\n",
    "activity_id = \"electricity-energy_source_grid_mix\"\n",
    "\n",
    "# We have many regions with the same activity id, representing the power grid in different countries.\n",
    "# We'd like to get the power for Australia specifically, so we will need to specify a region.\n",
    "# We do this by specifying the UN location code for the region\n",
    "# You can also see the region for different emission factors in the data explorer.\n",
    "region = \"US\"\n",
    "year = \"2022\"\n",
    "\n",
    "# We must also specify how much electricity generation we would like to make the estimation for.\n",
    "# In this case we will do it for 100 kilowatt-hours.\n",
    "# Different emission factors have different requirement as to what units they support estimates for.\n",
    "# You can see the units supported by an emission factor in the data explorer\n",
    "# and find more documentation about units\n",
    "# in the API documentation.\n",
    "energy_input = int(input(\"Enter the amount of hours KW that was used this month: \"))  # user input from front-end\n",
    "parameters = {\n",
    "    \"energy\": energy_input,\n",
    "    \"energy_unit\": \"kWh\"\n",
    "    }\n",
    "\n",
    "json_body = {\n",
    "    \"emission_factor\": {\n",
    "        \"activity_id\": activity_id,\n",
    "        \"region\": region,\n",
    "    },\n",
    "    # Specify how much energy we're estimating for\n",
    "    \"parameters\": parameters\n",
    "}\n",
    "\n",
    "# You must always specify your AUTH token in the \"Authorization\" header like this.\n",
    "authorization_headers = {\"Authorization\": f\"Bearer: {MY_API_KEY}\"}\n",
    "\n",
    "# We send a POST request to the estimate endpoint with a json body\n",
    "# and the correct authorization headers.\n",
    "# This line will send the request and retrieve the body as JSON.\n",
    "response = requests.post(url, json=json_body, headers=authorization_headers).json()\n",
    "\n",
    "# You can now do anything you want with the response\n",
    "electric_co2 = response['co2e']\n",
    "print(f'{electric_co2:.2f} kg')\n",
    "electric_base = 351.87"
   ]
  },
  {
   "cell_type": "markdown",
   "id": "1588e251",
   "metadata": {},
   "source": [
    "### Estimating Gas"
   ]
  },
  {
   "cell_type": "code",
   "execution_count": 19,
   "id": "7fdd753f",
   "metadata": {},
   "outputs": [
    {
     "name": "stdout",
     "output_type": "stream",
     "text": [
      "Enter the amount of kilometers driven this month: 1527.4016\n",
      "707.19 kg\n"
     ]
    }
   ],
   "source": [
    "import json\n",
    "import requests\n",
    "\n",
    "# Change this to be your API key\n",
    "MY_API_KEY=\"7SAZBY9HVTMZBTGQECC9J7SB0TAY\"\n",
    "\n",
    "url = \"https://beta3.api.climatiq.io/estimate\"\n",
    "\n",
    "# The activity ID for the emission factor. You can find this via the search endpoint listed above\n",
    "# or via the Data Explorer.\n",
    "activity_id = \"passenger_vehicle-vehicle_type_automobile-fuel_source_na-distance_na-engine_size_na\"\n",
    "\n",
    "# We have many regions with the same activity id, representing the power grid in different countries.\n",
    "# We'd like to get the power for Australia specifically, so we will need to specify a region.\n",
    "# We do this by specifying the UN location code for the region\n",
    "# You can also see the region for different emission factors in the data explorer.\n",
    "region = \"Global\"\n",
    "year = \"2017\"\n",
    "\n",
    "# We must also specify how much electricity generation we would like to make the estimation for.\n",
    "# In this case we will do it for 100 kilowatt-hours.\n",
    "# Different emission factors have different requirement as to what units they support estimates for.\n",
    "# You can see the units supported by an emission factor in the data explorer\n",
    "# and find more documentation about units\n",
    "# in the API documentation.\n",
    "distance_input = float(input(\"Enter the amount of kilometers driven this month: \"))  # user input from front-end\n",
    "parameters = {\n",
    "    \"distance\": distance_input,\n",
    "    \"distance_unit\": \"km\"\n",
    "    }\n",
    "\n",
    "json_body = {\n",
    "    \"emission_factor\": {\n",
    "        \"activity_id\": activity_id,\n",
    "        \"region\": region,\n",
    "    },\n",
    "    # Specify how much energy we're estimating for\n",
    "    \"parameters\": parameters\n",
    "}\n",
    "\n",
    "# You must always specify your AUTH token in the \"Authorization\" header like this.\n",
    "authorization_headers = {\"Authorization\": f\"Bearer: {MY_API_KEY}\"}\n",
    "\n",
    "# We send a POST request to the estimate endpoint with a json body\n",
    "# and the correct authorization headers.\n",
    "# This line will send the request and retrieve the body as JSON.\n",
    "response = requests.post(url, json=json_body, headers=authorization_headers).json()\n",
    "\n",
    "\n",
    "# You can now do anything you want with the response\n",
    "gas_co2 = response[\"co2e\"]\n",
    "print(f'{gas_co2:.2f} kg')\n",
    "gas_base = 707.19\n"
   ]
  },
  {
   "cell_type": "code",
   "execution_count": null,
   "id": "4eb7a49d",
   "metadata": {},
   "outputs": [],
   "source": []
  }
 ],
 "metadata": {
  "kernelspec": {
   "display_name": "Python 3",
   "language": "python",
   "name": "python3"
  },
  "language_info": {
   "codemirror_mode": {
    "name": "ipython",
    "version": 3
   },
   "file_extension": ".py",
   "mimetype": "text/x-python",
   "name": "python",
   "nbconvert_exporter": "python",
   "pygments_lexer": "ipython3",
   "version": "3.7.11"
  }
 },
 "nbformat": 4,
 "nbformat_minor": 5
}
