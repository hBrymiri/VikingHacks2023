{
 "cells": [
  {
   "cell_type": "markdown",
   "id": "ff09f48f",
   "metadata": {},
   "source": [
    "### Searching for activity ID"
   ]
  },
  {
   "cell_type": "code",
   "execution_count": 19,
   "id": "cb8bb87a",
   "metadata": {},
   "outputs": [
    {
     "name": "stdout",
     "output_type": "stream",
     "text": [
      "Enter query: grid mix\n",
      "There are 13 results\n",
      "electricity-energy_source_grid_mix_residual_mix_market_based\n",
      "electricity-energy_source_grid_mix\n",
      "electricity-energy_source_grid_mix\n",
      "electricity-energy_source_grid_mix\n",
      "electricity-energy_source_grid_mix\n",
      "electricity-energy_source_grid_mix\n",
      "electricity-energy_source_grid_mix\n",
      "electricity-energy_source_grid_mix_location_based\n",
      "electricity-energy_source_grid_mix\n",
      "electricity-energy_source_grid_mix\n",
      "electricity-energy_source_grid_mix\n",
      "electricity-energy_source_grid_mix_losses\n",
      "electricity-energy_source_grid_mix_non_baseload\n"
     ]
    }
   ],
   "source": [
    "# Change this to be your API key.\n",
    "MY_API_KEY=\"7SAZBY9HVTMZBTGQECC9J7SB0TAY\"\n",
    "\n",
    "url = \"https://beta3.api.climatiq.io/search\"\n",
    "\n",
    "# ask user for query\n",
    "query= input(\"Enter query: \")\n",
    "\n",
    "query_params = {\n",
    "    # Free text query can be writen as the \"query\" parameter\n",
    "    \"query\": query,\n",
    "    # You can also filter on region, year, source and more\n",
    "    \"region\": \"US\"\n",
    "}\n",
    "\n",
    "# You must always specify your AUTH token in the \"Authorization\" header like this.\n",
    "authorization_headers = {\"Authorization\": f\"Bearer: {MY_API_KEY}\"}\n",
    "\n",
    "# This performs the request and returns the result as JSON\n",
    "response = requests.get(url, params=query_params, headers=authorization_headers).json()\n",
    "\n",
    "# And here you can do whatever you want with the results\n",
    "total = response['total_results']\n",
    "print(\"There are\", total, \"results\")\n",
    "\n",
    "# save results as a list\n",
    "results = response['results']\n",
    "\n",
    "# run through and list all the activity ids from results\n",
    "for index in range(len(results)):\n",
    "    print(results[index]['activity_id'])"
   ]
  },
  {
   "cell_type": "markdown",
   "id": "43411282",
   "metadata": {},
   "source": [
    "### Estimating Electricity"
   ]
  },
  {
   "cell_type": "code",
   "execution_count": 20,
   "id": "f03edd12",
   "metadata": {},
   "outputs": [
    {
     "name": "stdout",
     "output_type": "stream",
     "text": [
      "Enter the amount of hours KW that was used this month: 943\n",
      "351.87 kg\n"
     ]
    }
   ],
   "source": [
    "import json\n",
    "import requests\n",
    "\n",
    "# your API key\n",
    "MY_API_KEY=\"7SAZBY9HVTMZBTGQECC9J7SB0TAY\"\n",
    "\n",
    "url = \"https://beta3.api.climatiq.io/estimate\"\n",
    "\n",
    "# The activity ID for the emission factor\n",
    "activity_id = \"electricity-energy_source_grid_mix\"\n",
    "\n",
    "# We have many regions with the same activity id, representing the power grid in different countries.\n",
    "region = \"US\"\n",
    "year = \"2022\"\n",
    "\n",
    "# Different emission factors have different requirement as to what units they support estimates for.\n",
    "energy_input = int(input(\"Enter the amount of hours KW that was used this month: \"))  # user input from front-end\n",
    "parameters = {\n",
    "    \"energy\": energy_input,\n",
    "    \"energy_unit\": \"kWh\"\n",
    "    }\n",
    "\n",
    "json_body = {\n",
    "    \"emission_factor\": {\n",
    "        \"activity_id\": activity_id,\n",
    "        \"region\": region,\n",
    "    },\n",
    "    # Specify how much energy we're estimating for\n",
    "    \"parameters\": parameters\n",
    "}\n",
    "\n",
    "# You must always specify your AUTH token in the \"Authorization\" header like this.\n",
    "authorization_headers = {\"Authorization\": f\"Bearer: {MY_API_KEY}\"}\n",
    "\n",
    "# This line will send the request and retrieve the body as JSON.\n",
    "response = requests.post(url, json=json_body, headers=authorization_headers).json()\n",
    "\n",
    "# You can now do anything you want with the response\n",
    "electric_co2 = response['co2e']\n",
    "print(f'{electric_co2:.2f} kg')\n",
    "electric_base = 351.87"
   ]
  },
  {
   "cell_type": "markdown",
   "id": "e6209096",
   "metadata": {},
   "source": [
    "### Estimating Gas"
   ]
  },
  {
   "cell_type": "code",
   "execution_count": 21,
   "id": "ea2892bb",
   "metadata": {},
   "outputs": [
    {
     "name": "stdout",
     "output_type": "stream",
     "text": [
      "Enter '1' for passenger vehicle. '2' for pickup\\SUV, or '3' for motorcycle:  2\n",
      "Enter the amount of money (in USD) spent on gas this month: 1000\n",
      "327.00 kg\n",
      "You are below the average.\n"
     ]
    }
   ],
   "source": [
    "import json\n",
    "import requests\n",
    "\n",
    "# your API key\n",
    "MY_API_KEY=\"7SAZBY9HVTMZBTGQECC9J7SB0TAY\"\n",
    "\n",
    "url = \"https://beta3.api.climatiq.io/estimate\"\n",
    "\n",
    "# The activity ID for the emission factor - determined by user\n",
    "choice = int(input(\"Enter '1' for passenger vehicle. '2' for pickup\\SUV, or '3' for motorcycle:  \"))\n",
    "if choice == 1:\n",
    "    activity_id = \"passenger_vehicle-vehicle_type_automobile-fuel_source_na-distance_na-engine_size_na\"\n",
    "    region = \"Global\"\n",
    "    year = \"2017\"\n",
    "elif choice == 2:\n",
    "    activity_id = \"passenger_vehicle-vehicle_type_pickup_trucks_vans_suvs-fuel_source_na-engine_size_na-vehicle_age_na-vehicle_weight_na\"\n",
    "    region = \"US\"\n",
    "    year = \"2022\"\n",
    "elif choice == 3:\n",
    "    activity_id = \"passenger_vehicle-vehicle_type_motorcycle-fuel_source_na-engine_size_na-vehicle_age_na-vehicle_weight_na\"\n",
    "    region = \"US\"\n",
    "    year = \"2021\"\n",
    "else:\n",
    "    print(\"Incorrect selection\")\n",
    "\n",
    "# Different emission factors have different requirement as to what units they support estimates for.\n",
    "if choice != 2:\n",
    "    distance_input = float(input(\"Enter the amount of miles driven this month: \"))  # user input from front-end\n",
    "    distance_unit = \"mi\"\n",
    "    if choice == 1:\n",
    "        distance_input = distance_input * 1.609  # convert to KM\n",
    "        distance_unit = \"km\"\n",
    "    parameters = {\n",
    "        \"distance\": distance_input,\n",
    "        \"distance_unit\": distance_unit\n",
    "        }\n",
    "\n",
    "    json_body = {\n",
    "        \"emission_factor\": {\n",
    "            \"activity_id\": activity_id,\n",
    "            \"region\": region,\n",
    "        },\n",
    "        # Specify how much energy we're estimating for\n",
    "        \"parameters\": parameters\n",
    "    }\n",
    "elif choice == 2:\n",
    "    money_input = float(input(\"Enter the amount of money (in USD) spent on gas this month: \"))\n",
    "    parameters = {\n",
    "        \"money\": money_input,\n",
    "        \"money_unit\": \"usd\"\n",
    "        }\n",
    "\n",
    "    json_body = {\n",
    "        \"emission_factor\": {\n",
    "            \"activity_id\": activity_id,\n",
    "            \"region\": region,\n",
    "        },\n",
    "        # Specify how much energy we're estimating for\n",
    "        \"parameters\": parameters\n",
    "    }\n",
    "    \n",
    "# You must always specify your AUTH token in the \"Authorization\" header like this.\n",
    "authorization_headers = {\"Authorization\": f\"Bearer: {MY_API_KEY}\"}\n",
    "\n",
    "# This line will send the request and retrieve the body as JSON.\n",
    "response = requests.post(url, json=json_body, headers=authorization_headers).json()\n",
    "\n",
    "# Print monthly Co2 emmissions\n",
    "gas_co2 = response[\"co2e\"]\n",
    "print(f'{gas_co2:.2f} kg')\n",
    "\n",
    "# Compare with average\n",
    "gas_base = 396.29   # kg per month - determined from 2009 EPA average annual emmissions\n",
    "if gas_co2 > gas_base:\n",
    "    print(\"You are over the average.\")\n",
    "elif gas_co2 < gas_base:\n",
    "    print(\"You are below the average.\")\n",
    "else:\n",
    "    print(\"You are at the average.\")\n"
   ]
  },
  {
   "cell_type": "code",
   "execution_count": null,
   "id": "0f59c5ac",
   "metadata": {},
   "outputs": [],
   "source": []
  }
 ],
 "metadata": {
  "kernelspec": {
   "display_name": "Python 3",
   "language": "python",
   "name": "python3"
  },
  "language_info": {
   "codemirror_mode": {
    "name": "ipython",
    "version": 3
   },
   "file_extension": ".py",
   "mimetype": "text/x-python",
   "name": "python",
   "nbconvert_exporter": "python",
   "pygments_lexer": "ipython3",
   "version": "3.7.11"
  }
 },
 "nbformat": 4,
 "nbformat_minor": 5
}
